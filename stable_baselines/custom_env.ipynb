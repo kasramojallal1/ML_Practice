{
 "cells": [
  {
   "cell_type": "code",
   "execution_count": 4,
   "metadata": {},
   "outputs": [],
   "source": [
    "from gym import Env\n",
    "from gym.spaces import Discrete, Box\n",
    "import numpy as np\n",
    "import random"
   ]
  },
  {
   "cell_type": "code",
   "execution_count": 16,
   "metadata": {},
   "outputs": [],
   "source": [
    "class ShowerEnv(Env):\n",
    "    def __init__(self):\n",
    "        self.action_space = Discrete(3)\n",
    "        self.observation_space = Box(low=np.array([0]), high=np.array([100]))\n",
    "        self.state = 38 + random.randint(-3, 3)\n",
    "        self.shower_length = 60\n",
    "        \n",
    "    def step(self, action):\n",
    "        self.state += action - 1\n",
    "        self.shower_length += -1\n",
    "        \n",
    "        if self.state >= 37 and self.state <= 39:\n",
    "            reward = 1\n",
    "        else:\n",
    "            reward = -1\n",
    "            \n",
    "        if self.shower_length <= 0:\n",
    "            done = True\n",
    "        else:\n",
    "            done = False\n",
    "        \n",
    "        self.state += random.randint(-1, 1)\n",
    "        info = {}\n",
    "        \n",
    "        return self.state, reward, done, info\n",
    "        \n",
    "    def render(self):\n",
    "        pass\n",
    "    \n",
    "    def reset(self):\n",
    "        self.state = 38 + random.randint(-3, 3)\n",
    "        self.shower_length = 60\n",
    "        \n",
    "        return self.state"
   ]
  },
  {
   "cell_type": "code",
   "execution_count": 17,
   "metadata": {},
   "outputs": [],
   "source": [
    "env = ShowerEnv()"
   ]
  },
  {
   "cell_type": "code",
   "execution_count": 19,
   "metadata": {},
   "outputs": [
    {
     "name": "stdout",
     "output_type": "stream",
     "text": [
      "Episode:1 Score:-60\n",
      "Episode:2 Score:-32\n",
      "Episode:3 Score:-28\n",
      "Episode:4 Score:-58\n",
      "Episode:5 Score:-26\n",
      "Episode:6 Score:-38\n",
      "Episode:7 Score:-44\n",
      "Episode:8 Score:-58\n",
      "Episode:9 Score:-14\n",
      "Episode:10 Score:-10\n",
      "Episode:11 Score:-56\n",
      "Episode:12 Score:-24\n",
      "Episode:13 Score:-54\n",
      "Episode:14 Score:-48\n",
      "Episode:15 Score:-60\n",
      "Episode:16 Score:-32\n",
      "Episode:17 Score:-22\n",
      "Episode:18 Score:-22\n",
      "Episode:19 Score:-14\n",
      "Episode:20 Score:10\n",
      "Episode:21 Score:-46\n",
      "Episode:22 Score:-16\n",
      "Episode:23 Score:22\n",
      "Episode:24 Score:-14\n",
      "Episode:25 Score:-60\n",
      "Episode:26 Score:-30\n",
      "Episode:27 Score:-32\n",
      "Episode:28 Score:-56\n",
      "Episode:29 Score:-32\n",
      "Episode:30 Score:-56\n",
      "Episode:31 Score:-42\n",
      "Episode:32 Score:-14\n",
      "Episode:33 Score:-44\n",
      "Episode:34 Score:-34\n",
      "Episode:35 Score:-50\n",
      "Episode:36 Score:-40\n",
      "Episode:37 Score:-20\n",
      "Episode:38 Score:-54\n",
      "Episode:39 Score:-18\n",
      "Episode:40 Score:-42\n",
      "Episode:41 Score:-46\n",
      "Episode:42 Score:-6\n",
      "Episode:43 Score:-26\n",
      "Episode:44 Score:-48\n",
      "Episode:45 Score:-46\n",
      "Episode:46 Score:-56\n",
      "Episode:47 Score:-54\n",
      "Episode:48 Score:-20\n",
      "Episode:49 Score:-4\n",
      "Episode:50 Score:-54\n",
      "Episode:51 Score:-44\n",
      "Episode:52 Score:-60\n",
      "Episode:53 Score:-16\n",
      "Episode:54 Score:-40\n",
      "Episode:55 Score:2\n",
      "Episode:56 Score:8\n",
      "Episode:57 Score:-48\n",
      "Episode:58 Score:0\n",
      "Episode:59 Score:-24\n",
      "Episode:60 Score:-42\n",
      "Episode:61 Score:16\n",
      "Episode:62 Score:-54\n",
      "Episode:63 Score:-24\n",
      "Episode:64 Score:-42\n",
      "Episode:65 Score:-22\n",
      "Episode:66 Score:-26\n",
      "Episode:67 Score:-44\n",
      "Episode:68 Score:-38\n",
      "Episode:69 Score:-30\n",
      "Episode:70 Score:-22\n",
      "Episode:71 Score:-58\n",
      "Episode:72 Score:-60\n",
      "Episode:73 Score:-20\n",
      "Episode:74 Score:-24\n",
      "Episode:75 Score:-48\n",
      "Episode:76 Score:-50\n",
      "Episode:77 Score:-60\n",
      "Episode:78 Score:-60\n",
      "Episode:79 Score:-22\n",
      "Episode:80 Score:22\n",
      "Episode:81 Score:-20\n",
      "Episode:82 Score:-24\n",
      "Episode:83 Score:-46\n",
      "Episode:84 Score:-60\n",
      "Episode:85 Score:-24\n",
      "Episode:86 Score:-16\n",
      "Episode:87 Score:-38\n",
      "Episode:88 Score:-60\n",
      "Episode:89 Score:-38\n",
      "Episode:90 Score:-48\n",
      "Episode:91 Score:-32\n",
      "Episode:92 Score:-48\n",
      "Episode:93 Score:-38\n",
      "Episode:94 Score:-26\n",
      "Episode:95 Score:-34\n",
      "Episode:96 Score:-36\n",
      "Episode:97 Score:-32\n",
      "Episode:98 Score:-56\n",
      "Episode:99 Score:-48\n",
      "Episode:100 Score:-52\n"
     ]
    }
   ],
   "source": [
    "episodes = 100\n",
    "\n",
    "for episode in range(1, episodes+1):\n",
    "    state = env.reset()\n",
    "    done = False\n",
    "    score = 0\n",
    "    \n",
    "    while not done:\n",
    "        #env.render()\n",
    "        action = env.action_space.sample()\n",
    "        n_state, reward, done, info = env.step(action)\n",
    "        score += reward\n",
    "        \n",
    "    print('Episode:{} Score:{}'.format(episode, score))"
   ]
  },
  {
   "cell_type": "code",
   "execution_count": 20,
   "metadata": {},
   "outputs": [],
   "source": [
    "import numpy as np\n",
    "from tensorflow.keras.models import Sequential\n",
    "from tensorflow.keras.layers import Dense, Flatten\n",
    "from tensorflow.keras.optimizers import Adam"
   ]
  },
  {
   "cell_type": "code",
   "execution_count": 23,
   "metadata": {},
   "outputs": [],
   "source": [
    "states = env.observation_space.shape\n",
    "actions = env.action_space.n"
   ]
  },
  {
   "cell_type": "code",
   "execution_count": 21,
   "metadata": {},
   "outputs": [],
   "source": [
    "def build_model(states, actions):\n",
    "    model = Sequential()    \n",
    "    model.add(Dense(24, activation='relu', input_shape=states))\n",
    "    model.add(Dense(24, activation='relu'))\n",
    "    model.add(Dense(actions, activation='linear'))\n",
    "    return model"
   ]
  },
  {
   "cell_type": "code",
   "execution_count": 24,
   "metadata": {},
   "outputs": [],
   "source": [
    "model = build_model(states, actions)"
   ]
  },
  {
   "cell_type": "code",
   "execution_count": 25,
   "metadata": {},
   "outputs": [
    {
     "name": "stdout",
     "output_type": "stream",
     "text": [
      "Model: \"sequential\"\n",
      "_________________________________________________________________\n",
      "Layer (type)                 Output Shape              Param #   \n",
      "=================================================================\n",
      "dense (Dense)                (None, 24)                48        \n",
      "_________________________________________________________________\n",
      "dense_1 (Dense)              (None, 24)                600       \n",
      "_________________________________________________________________\n",
      "dense_2 (Dense)              (None, 3)                 75        \n",
      "=================================================================\n",
      "Total params: 723\n",
      "Trainable params: 723\n",
      "Non-trainable params: 0\n",
      "_________________________________________________________________\n"
     ]
    }
   ],
   "source": [
    "model.summary()"
   ]
  },
  {
   "cell_type": "code",
   "execution_count": null,
   "metadata": {},
   "outputs": [],
   "source": []
  }
 ],
 "metadata": {
  "interpreter": {
   "hash": "ba181f63e9d4d2546882c6557f001599fbd08286524a1352a15ceb4bcf4e5348"
  },
  "kernelspec": {
   "display_name": "Python 3.8.8 64-bit ('base': conda)",
   "language": "python",
   "name": "python3"
  },
  "language_info": {
   "codemirror_mode": {
    "name": "ipython",
    "version": 3
   },
   "file_extension": ".py",
   "mimetype": "text/x-python",
   "name": "python",
   "nbconvert_exporter": "python",
   "pygments_lexer": "ipython3",
   "version": "3.8.2"
  },
  "orig_nbformat": 4
 },
 "nbformat": 4,
 "nbformat_minor": 2
}
